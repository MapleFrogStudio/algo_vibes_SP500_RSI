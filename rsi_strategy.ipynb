{
 "cells": [
  {
   "cell_type": "code",
   "execution_count": 11,
   "metadata": {},
   "outputs": [],
   "source": [
    "import pandas as pd\n",
    "import yfinance as yf\n",
    "import matplotlib.pyplot as plt"
   ]
  },
  {
   "cell_type": "code",
   "execution_count": 12,
   "metadata": {},
   "outputs": [
    {
     "name": "stdout",
     "output_type": "stream",
     "text": [
      "Grab symbols function defined...\n"
     ]
    }
   ],
   "source": [
    "def grab_symbols():\n",
    "    # Grab S&P Symbols from Wikipedia or local HTML File\n",
    "    # wiki_url = 'https://en.wikipedia.org/wiki/List_of_S%26P_500_companies'\n",
    "    # wiki_url = 'https://en.wikipedia.org/wiki/List_of_S%26P_500_companies#S&P_500_component_stocks'\n",
    "    tickers = pd.read_html('./tickers.html')[0]\n",
    "    tickers = tickers.Symbol.to_list()\n",
    "    tickers = [i.replace('.','-') for i in tickers]\n",
    "    return tickers \n",
    "\n",
    "print('Grab symbols function defined...')"
   ]
  },
  {
   "cell_type": "code",
   "execution_count": 13,
   "metadata": {},
   "outputs": [
    {
     "name": "stdout",
     "output_type": "stream",
     "text": [
      "Yahoo_prices function defined...\n"
     ]
    }
   ],
   "source": [
    "def yahoo_prices(tickers):\n",
    "    data = yf.download(tickers, start='2011-01-01')\n",
    "    data = data.loc[(slice(None)),(slice(None),slice(None))].copy()\n",
    "    data = data.stack()\n",
    "    data = data.reset_index()\n",
    "    data.rename(columns={'level_1': 'Symbol'}, inplace=True)\n",
    "    data.set_index('Date', inplace=True)\n",
    "    return data\n",
    "\n",
    "print('Yahoo_prices function defined...')    "
   ]
  },
  {
   "cell_type": "code",
   "execution_count": 4,
   "metadata": {},
   "outputs": [],
   "source": [
    "#def RSIcalc_old(df):\n",
    "#    #df = yf.download(asset, start='2011-01-01')\n",
    "#    if len(df) < 250:\n",
    "#        return None\n",
    "#        \n",
    "#    df['MA200'] = df['Adj Close'].rolling(window=200).mean()\n",
    "#    df['Price_change'] = df['Adj Close'].pct_change()\n",
    "#\n",
    "#    df['Upmove']   = df['Price_change'].apply(lambda x: x if x > 0 else 0)\n",
    "#    df['Downmove'] = df['Price_change'].apply(lambda x: abs(x) if x < 0 else 0)\n",
    "#    df['Avg_up']   = df['Upmove'].ewm(span=19).mean()\n",
    "#    df['Avg_down']   = df['Downmove'].ewm(span=19).mean()\n",
    "#    df = df.dropna().copy()\n",
    "#    df['RS'] = df['Avg_up'] / df['Avg_down']\n",
    "#    df['RSI'] = df['RS'].apply(lambda x: 100 - (100 / (x + 1)))\n",
    "#\n",
    "#    df.loc[(df['Adj Close'] > df['MA200']) & (df['RSI'] < 30), 'Buy' ] = 'Yes'\n",
    "#    df.loc[(df['Adj Close'] <= df['MA200']) | (df['RSI'] >= 30), 'Buy' ] = 'No'\n",
    "#\n",
    "#    return df"
   ]
  },
  {
   "cell_type": "code",
   "execution_count": 5,
   "metadata": {},
   "outputs": [
    {
     "name": "stdout",
     "output_type": "stream",
     "text": [
      "RSIcalc function defined....\n"
     ]
    }
   ],
   "source": [
    "# Generate our indicators and buy#sell signals for each of our assets\n",
    "# df: contains one company (symbol) of data\n",
    "def RSIcalc(df):\n",
    "    # Sanity check for our indicators to work\n",
    "    if len(df) < 250:\n",
    "        return None\n",
    "    \n",
    "    df['MA200'] = df['Adj Close'].rolling(window=200).mean()\n",
    "    df['Price_change'] = df['Adj Close'].pct_change()\n",
    "\n",
    "    df['Upmove']   = df['Price_change'].apply(lambda x: x if x > 0 else 0)\n",
    "    df['Downmove'] = df['Price_change'].apply(lambda x: abs(x) if x < 0 else 0)\n",
    "    df['Avg_up']   = df['Upmove'].ewm(span=19).mean()\n",
    "    df['Avg_down']   = df['Downmove'].ewm(span=19).mean()\n",
    "    df = df.dropna().copy()\n",
    "    df['RS'] = df['Avg_up'] / df['Avg_down']\n",
    "    df['RSI'] = df['RS'].apply(lambda x: 100 - (100 / (x + 1)))\n",
    "\n",
    "    df.loc[(df['Adj Close'] > df['MA200']) & (df['RSI'] < 30), 'Buy' ] = 'Yes'\n",
    "    df.loc[(df['Adj Close'] <= df['MA200']) | (df['RSI'] >= 30), 'Buy' ] = 'No'\n",
    "\n",
    "    return df\n",
    "    \n",
    "print('RSIcalc function defined....')"
   ]
  },
  {
   "cell_type": "code",
   "execution_count": 6,
   "metadata": {},
   "outputs": [
    {
     "name": "stdout",
     "output_type": "stream",
     "text": [
      "get_signals function defined....\n"
     ]
    }
   ],
   "source": [
    "# Extract Buy & Sell dates from our Asset Dataframe\n",
    "# df: contains one company (symbol) of data\n",
    "def get_signals(df):\n",
    "    Buying_dates = []\n",
    "    Selling_dates = []\n",
    "    for i in range(len(df) - 11):\n",
    "        if 'Yes' in df['Buy'].iloc[i]:\n",
    "            Buying_dates.append(df.iloc[i+1].name)  # name is the index that contains the date\n",
    "            for j in range(1,11):\n",
    "                if df['RSI'].iloc[i + j] > 40:\n",
    "                    Selling_dates.append(df.iloc[i + j + 1].name)\n",
    "                    break # Break before we reach the tenth day\n",
    "                elif j == 10:\n",
    "                    Selling_dates.append(df.iloc[i + j + 1].name)\n",
    "    return Buying_dates, Selling_dates  \n",
    "\n",
    "print('get_signals function defined....')  \n"
   ]
  },
  {
   "cell_type": "code",
   "execution_count": 14,
   "metadata": {},
   "outputs": [
    {
     "name": "stdout",
     "output_type": "stream",
     "text": [
      "[*********************100%***********************]  502 of 502 completed\n",
      "All S&P Prices loaded/downloaded\n"
     ]
    }
   ],
   "source": [
    "tickers = grab_symbols()\n",
    "all_assets = yahoo_prices(tickers)\n",
    "\n",
    "# Very long to run, will create a large file on system, BE CAREFUL\n",
    "#all_assets.to_csv('SP_500_daily_prices.csv')\n",
    "\n",
    "# Utility function to load prices from our saved historical file\n",
    "#sp500 = pd.read_csv('SP_500_daily_prices.csv', index_col='Date')\n",
    "#sp500.loc[sp500.Symbol == 'TSLA']\n",
    "\n",
    "print('All S&P Prices loaded/downloaded')"
   ]
  },
  {
   "cell_type": "code",
   "execution_count": 15,
   "metadata": {},
   "outputs": [
    {
     "name": "stdout",
     "output_type": "stream",
     "text": [
      "log_trades function defined....\n"
     ]
    }
   ],
   "source": [
    "# Generate a list of trades for one specific company (symbol) based on our buy/sell signals\n",
    "def log_trades(asset_frame):\n",
    "    symbol = asset_frame.iloc[0].Symbol\n",
    "    buy, sell = get_signals(asset_frame)\n",
    "    buy_dates = asset_frame.loc[buy].index.tolist()\n",
    "    buy_prices = asset_frame.loc[buy].Open.values.tolist()\n",
    "    sell_dates = asset_frame.loc[sell].index.tolist()\n",
    "    sell_prices = asset_frame.loc[sell].Open.values.tolist()\n",
    "\n",
    "    trades = pd.DataFrame(buy_dates, columns=['Buy_dates'])\n",
    "    trades['Buy_price'] = buy_prices\n",
    "    trades['Sell_date'] = sell_dates\n",
    "    trades['Sell_price'] = sell_prices\n",
    "    trades['Overlaping_trades'] = [same_sell_date for same_sell_date in trades['Sell_date'] == trades['Sell_date'].shift(1)]\n",
    "    trades['Profit_amount'] = trades['Sell_price'] - trades['Buy_price']\n",
    "    trades['Profit'] = [amount for amount in trades['Profit_amount'] > 0]\n",
    "    trades['Symbol'] = symbol\n",
    "    \n",
    "    # Remove overlapping trades\n",
    "    trades = trades.loc[trades.Overlaping_trades == False]\n",
    "    \n",
    "    # Move Symbol to first column position for easy reading :)\n",
    "    first_column = trades.pop('Symbol')\n",
    "    trades.insert(0, 'Symbol', first_column)\n",
    "    return trades\n",
    "\n",
    "print('log_trades function defined....')"
   ]
  },
  {
   "cell_type": "code",
   "execution_count": 17,
   "metadata": {},
   "outputs": [
    {
     "data": {
      "text/plain": [
       "445"
      ]
     },
     "execution_count": 17,
     "metadata": {},
     "output_type": "execute_result"
    }
   ],
   "source": [
    "tickers.index('TSLA')"
   ]
  },
  {
   "cell_type": "code",
   "execution_count": 18,
   "metadata": {},
   "outputs": [
    {
     "data": {
      "text/html": [
       "<div>\n",
       "<style scoped>\n",
       "    .dataframe tbody tr th:only-of-type {\n",
       "        vertical-align: middle;\n",
       "    }\n",
       "\n",
       "    .dataframe tbody tr th {\n",
       "        vertical-align: top;\n",
       "    }\n",
       "\n",
       "    .dataframe thead th {\n",
       "        text-align: right;\n",
       "    }\n",
       "</style>\n",
       "<table border=\"1\" class=\"dataframe\">\n",
       "  <thead>\n",
       "    <tr style=\"text-align: right;\">\n",
       "      <th></th>\n",
       "      <th>Symbol</th>\n",
       "      <th>Buy_dates</th>\n",
       "      <th>Buy_price</th>\n",
       "      <th>Sell_date</th>\n",
       "      <th>Sell_price</th>\n",
       "      <th>Overlaping_trades</th>\n",
       "      <th>Profit_amount</th>\n",
       "      <th>Profit</th>\n",
       "    </tr>\n",
       "  </thead>\n",
       "  <tbody>\n",
       "    <tr>\n",
       "      <th>0</th>\n",
       "      <td>TSLA</td>\n",
       "      <td>2011-12-19 00:00:00-05:00</td>\n",
       "      <td>1.872667</td>\n",
       "      <td>2011-12-28 00:00:00-05:00</td>\n",
       "      <td>1.932667</td>\n",
       "      <td>False</td>\n",
       "      <td>0.060000</td>\n",
       "      <td>True</td>\n",
       "    </tr>\n",
       "    <tr>\n",
       "      <th>3</th>\n",
       "      <td>TSLA</td>\n",
       "      <td>2013-11-08 00:00:00-05:00</td>\n",
       "      <td>9.098667</td>\n",
       "      <td>2013-11-22 00:00:00-05:00</td>\n",
       "      <td>8.105333</td>\n",
       "      <td>False</td>\n",
       "      <td>-0.993334</td>\n",
       "      <td>False</td>\n",
       "    </tr>\n",
       "    <tr>\n",
       "      <th>4</th>\n",
       "      <td>TSLA</td>\n",
       "      <td>2013-11-11 00:00:00-05:00</td>\n",
       "      <td>9.400000</td>\n",
       "      <td>2013-11-25 00:00:00-05:00</td>\n",
       "      <td>8.300000</td>\n",
       "      <td>False</td>\n",
       "      <td>-1.099999</td>\n",
       "      <td>False</td>\n",
       "    </tr>\n",
       "    <tr>\n",
       "      <th>5</th>\n",
       "      <td>TSLA</td>\n",
       "      <td>2013-11-19 00:00:00-05:00</td>\n",
       "      <td>7.962000</td>\n",
       "      <td>2013-11-29 00:00:00-05:00</td>\n",
       "      <td>8.651333</td>\n",
       "      <td>False</td>\n",
       "      <td>0.689333</td>\n",
       "      <td>True</td>\n",
       "    </tr>\n",
       "    <tr>\n",
       "      <th>11</th>\n",
       "      <td>TSLA</td>\n",
       "      <td>2014-05-09 00:00:00-04:00</td>\n",
       "      <td>11.990667</td>\n",
       "      <td>2014-05-14 00:00:00-04:00</td>\n",
       "      <td>12.596667</td>\n",
       "      <td>False</td>\n",
       "      <td>0.606000</td>\n",
       "      <td>True</td>\n",
       "    </tr>\n",
       "    <tr>\n",
       "      <th>12</th>\n",
       "      <td>TSLA</td>\n",
       "      <td>2014-10-02 00:00:00-04:00</td>\n",
       "      <td>16.680000</td>\n",
       "      <td>2014-10-03 00:00:00-04:00</td>\n",
       "      <td>16.870667</td>\n",
       "      <td>False</td>\n",
       "      <td>0.190666</td>\n",
       "      <td>True</td>\n",
       "    </tr>\n",
       "    <tr>\n",
       "      <th>13</th>\n",
       "      <td>TSLA</td>\n",
       "      <td>2014-10-14 00:00:00-04:00</td>\n",
       "      <td>15.216667</td>\n",
       "      <td>2014-10-22 00:00:00-04:00</td>\n",
       "      <td>15.546000</td>\n",
       "      <td>False</td>\n",
       "      <td>0.329332</td>\n",
       "      <td>True</td>\n",
       "    </tr>\n",
       "    <tr>\n",
       "      <th>15</th>\n",
       "      <td>TSLA</td>\n",
       "      <td>2017-07-06 00:00:00-04:00</td>\n",
       "      <td>21.150667</td>\n",
       "      <td>2017-07-12 00:00:00-04:00</td>\n",
       "      <td>22.026667</td>\n",
       "      <td>False</td>\n",
       "      <td>0.875999</td>\n",
       "      <td>True</td>\n",
       "    </tr>\n",
       "    <tr>\n",
       "      <th>18</th>\n",
       "      <td>TSLA</td>\n",
       "      <td>2017-10-26 00:00:00-04:00</td>\n",
       "      <td>21.851999</td>\n",
       "      <td>2017-11-01 00:00:00-04:00</td>\n",
       "      <td>22.150000</td>\n",
       "      <td>False</td>\n",
       "      <td>0.298000</td>\n",
       "      <td>True</td>\n",
       "    </tr>\n",
       "    <tr>\n",
       "      <th>22</th>\n",
       "      <td>TSLA</td>\n",
       "      <td>2018-12-21 00:00:00-05:00</td>\n",
       "      <td>21.160000</td>\n",
       "      <td>2018-12-27 00:00:00-05:00</td>\n",
       "      <td>21.322666</td>\n",
       "      <td>False</td>\n",
       "      <td>0.162666</td>\n",
       "      <td>True</td>\n",
       "    </tr>\n",
       "    <tr>\n",
       "      <th>23</th>\n",
       "      <td>TSLA</td>\n",
       "      <td>2020-03-16 00:00:00-04:00</td>\n",
       "      <td>31.299999</td>\n",
       "      <td>2020-03-25 00:00:00-04:00</td>\n",
       "      <td>36.349998</td>\n",
       "      <td>False</td>\n",
       "      <td>5.049999</td>\n",
       "      <td>True</td>\n",
       "    </tr>\n",
       "    <tr>\n",
       "      <th>26</th>\n",
       "      <td>TSLA</td>\n",
       "      <td>2021-02-23 00:00:00-05:00</td>\n",
       "      <td>220.710007</td>\n",
       "      <td>2021-03-02 00:00:00-05:00</td>\n",
       "      <td>239.426666</td>\n",
       "      <td>False</td>\n",
       "      <td>18.716660</td>\n",
       "      <td>True</td>\n",
       "    </tr>\n",
       "    <tr>\n",
       "      <th>29</th>\n",
       "      <td>TSLA</td>\n",
       "      <td>2021-03-05 00:00:00-05:00</td>\n",
       "      <td>208.686661</td>\n",
       "      <td>2021-03-10 00:00:00-05:00</td>\n",
       "      <td>233.433334</td>\n",
       "      <td>False</td>\n",
       "      <td>24.746674</td>\n",
       "      <td>True</td>\n",
       "    </tr>\n",
       "    <tr>\n",
       "      <th>32</th>\n",
       "      <td>TSLA</td>\n",
       "      <td>2021-05-13 00:00:00-04:00</td>\n",
       "      <td>200.513336</td>\n",
       "      <td>2021-05-25 00:00:00-04:00</td>\n",
       "      <td>202.436661</td>\n",
       "      <td>False</td>\n",
       "      <td>1.923325</td>\n",
       "      <td>True</td>\n",
       "    </tr>\n",
       "    <tr>\n",
       "      <th>33</th>\n",
       "      <td>TSLA</td>\n",
       "      <td>2022-01-28 00:00:00-05:00</td>\n",
       "      <td>277.186676</td>\n",
       "      <td>2022-02-01 00:00:00-05:00</td>\n",
       "      <td>311.736664</td>\n",
       "      <td>False</td>\n",
       "      <td>34.549988</td>\n",
       "      <td>True</td>\n",
       "    </tr>\n",
       "  </tbody>\n",
       "</table>\n",
       "</div>"
      ],
      "text/plain": [
       "   Symbol                 Buy_dates   Buy_price                 Sell_date  \\\n",
       "0    TSLA 2011-12-19 00:00:00-05:00    1.872667 2011-12-28 00:00:00-05:00   \n",
       "3    TSLA 2013-11-08 00:00:00-05:00    9.098667 2013-11-22 00:00:00-05:00   \n",
       "4    TSLA 2013-11-11 00:00:00-05:00    9.400000 2013-11-25 00:00:00-05:00   \n",
       "5    TSLA 2013-11-19 00:00:00-05:00    7.962000 2013-11-29 00:00:00-05:00   \n",
       "11   TSLA 2014-05-09 00:00:00-04:00   11.990667 2014-05-14 00:00:00-04:00   \n",
       "12   TSLA 2014-10-02 00:00:00-04:00   16.680000 2014-10-03 00:00:00-04:00   \n",
       "13   TSLA 2014-10-14 00:00:00-04:00   15.216667 2014-10-22 00:00:00-04:00   \n",
       "15   TSLA 2017-07-06 00:00:00-04:00   21.150667 2017-07-12 00:00:00-04:00   \n",
       "18   TSLA 2017-10-26 00:00:00-04:00   21.851999 2017-11-01 00:00:00-04:00   \n",
       "22   TSLA 2018-12-21 00:00:00-05:00   21.160000 2018-12-27 00:00:00-05:00   \n",
       "23   TSLA 2020-03-16 00:00:00-04:00   31.299999 2020-03-25 00:00:00-04:00   \n",
       "26   TSLA 2021-02-23 00:00:00-05:00  220.710007 2021-03-02 00:00:00-05:00   \n",
       "29   TSLA 2021-03-05 00:00:00-05:00  208.686661 2021-03-10 00:00:00-05:00   \n",
       "32   TSLA 2021-05-13 00:00:00-04:00  200.513336 2021-05-25 00:00:00-04:00   \n",
       "33   TSLA 2022-01-28 00:00:00-05:00  277.186676 2022-02-01 00:00:00-05:00   \n",
       "\n",
       "    Sell_price  Overlaping_trades  Profit_amount  Profit  \n",
       "0     1.932667              False       0.060000    True  \n",
       "3     8.105333              False      -0.993334   False  \n",
       "4     8.300000              False      -1.099999   False  \n",
       "5     8.651333              False       0.689333    True  \n",
       "11   12.596667              False       0.606000    True  \n",
       "12   16.870667              False       0.190666    True  \n",
       "13   15.546000              False       0.329332    True  \n",
       "15   22.026667              False       0.875999    True  \n",
       "18   22.150000              False       0.298000    True  \n",
       "22   21.322666              False       0.162666    True  \n",
       "23   36.349998              False       5.049999    True  \n",
       "26  239.426666              False      18.716660    True  \n",
       "29  233.433334              False      24.746674    True  \n",
       "32  202.436661              False       1.923325    True  \n",
       "33  311.736664              False      34.549988    True  "
      ]
     },
     "execution_count": 18,
     "metadata": {},
     "output_type": "execute_result"
    }
   ],
   "source": [
    "# Test our functions for only one stock before applying our trade log to all our 503 assets\n",
    "i = 445\n",
    "data = all_assets.loc[all_assets.Symbol == tickers[i]].copy()\n",
    "frame = RSIcalc(data)\n",
    "if frame is not None:\n",
    "    trades = log_trades(frame)\n",
    "\n",
    "trades"
   ]
  },
  {
   "cell_type": "code",
   "execution_count": null,
   "metadata": {},
   "outputs": [],
   "source": [
    "# Run our analysis on all our S&P500 companies\n",
    "all_trades = None\n",
    "\n",
    "len_tickers = len(tickers)\n",
    "for i in range(len_tickers):\n",
    "    data = all_assets.loc[all_assets.Symbol == tickers[i]].copy()\n",
    "    frame = RSIcalc(data)\n",
    "    if frame is not None:\n",
    "        trades = log_trades(frame)\n",
    "    winning_trades = trades.Profit.sum()\n",
    "    print(f'[{trades.iloc[0].Symbol}] Winning trades:{winning_trades}/{len(trades)} for total profit of ${trades.Profit_amount.sum():0.2f}')\n",
    "\n",
    "    if all_trades is None:\n",
    "        all_trades = trades.copy()\n",
    "    else:\n",
    "        all_trades = pd.concat([all_trades, trades], ignore_index=True).copy()\n",
    "\n",
    "print(f'Total profit: ${all_trades.Profit_amount.sum():0.2f}')"
   ]
  },
  {
   "cell_type": "code",
   "execution_count": 22,
   "metadata": {},
   "outputs": [
    {
     "name": "stdout",
     "output_type": "stream",
     "text": [
      "Winners: 5473 for $14724.65 amount\n",
      "Loosers: 4201 for $-21334.31 amount\n",
      "Profit: $-6609.66\n"
     ]
    }
   ],
   "source": [
    "# Display statsitics on Winning vs Losing trades\n",
    "# Winning trades : 5459\n",
    "# Losing trades : 4194\n",
    "# Total trades : 9653\n",
    "win_trades = all_trades.loc[all_trades.Profit].Symbol.count()\n",
    "win_amount = all_trades.loc[all_trades.Profit].Profit_amount.sum()\n",
    "loss_trades = all_trades.loc[all_trades.Profit == False].Symbol.count()\n",
    "loss_amount = all_trades.loc[all_trades.Profit == False].Profit_amount.sum()\n",
    "\n",
    "print(f'Winners: {win_trades} for ${win_amount:0.2f} amount')\n",
    "print(f'Loosers: {loss_trades} for ${loss_amount:0.2f} amount')\n",
    "print(f'Profit: ${(win_amount + loss_amount):0.2f}')"
   ]
  }
 ],
 "metadata": {
  "kernelspec": {
   "display_name": "env",
   "language": "python",
   "name": "python3"
  },
  "language_info": {
   "codemirror_mode": {
    "name": "ipython",
    "version": 3
   },
   "file_extension": ".py",
   "mimetype": "text/x-python",
   "name": "python",
   "nbconvert_exporter": "python",
   "pygments_lexer": "ipython3",
   "version": "3.11.1"
  },
  "orig_nbformat": 4,
  "vscode": {
   "interpreter": {
    "hash": "fe666a3947659cca2feb30579bbf1c366d46f10b32bb833d6e71069510d736a9"
   }
  }
 },
 "nbformat": 4,
 "nbformat_minor": 2
}
