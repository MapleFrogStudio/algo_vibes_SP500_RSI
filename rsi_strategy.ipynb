{
 "cells": [
  {
   "cell_type": "code",
   "execution_count": null,
   "metadata": {},
   "outputs": [],
   "source": [
    "import pandas as pd\n",
    "import yfinance as yf\n",
    "import matplotlib.pyplot as plt"
   ]
  },
  {
   "cell_type": "code",
   "execution_count": null,
   "metadata": {},
   "outputs": [],
   "source": [
    "def grab_symbols():\n",
    "    # Grab S&P Symbols from Wikipedia or local HTML File\n",
    "    # wiki_url = 'https://en.wikipedia.org/wiki/List_of_S%26P_500_companies'\n",
    "    # wiki_url = 'https://en.wikipedia.org/wiki/List_of_S%26P_500_companies#S&P_500_component_stocks'\n",
    "    tickers = pd.read_html('./tickers.html')[0]\n",
    "    tickers = tickers.Symbol.to_list()\n",
    "    tickers = [i.replace('.','-') for i in tickers]\n",
    "    return tickers \n",
    "\n",
    "print('Grab symbols function defined...')"
   ]
  },
  {
   "cell_type": "code",
   "execution_count": null,
   "metadata": {},
   "outputs": [],
   "source": [
    "def yahoo_prices(tickers):\n",
    "    data = yf.download(tickers, start='2011-01-01')\n",
    "    data = data.loc[(slice(None)),(slice(None),slice(None))].copy()\n",
    "    data = data.stack()\n",
    "    data = data.reset_index()\n",
    "    data.rename(columns={'level_1': 'Symbol'}, inplace=True)\n",
    "    data.set_index('Date', inplace=True)\n",
    "    return data\n",
    "\n",
    "print('Yahoo_prices function defined...')    "
   ]
  },
  {
   "cell_type": "code",
   "execution_count": null,
   "metadata": {},
   "outputs": [],
   "source": [
    "# Generate our indicators and buy#sell signals for each of our assets\n",
    "# df: contains one company (symbol) of data\n",
    "def RSIcalc(df):\n",
    "    # Sanity check for our indicators to work\n",
    "    if len(df) < 250:\n",
    "        return None\n",
    "    \n",
    "    df['MA200'] = df['Adj Close'].rolling(window=200).mean()\n",
    "    df['Price_change'] = df['Adj Close'].pct_change()\n",
    "\n",
    "    df['Upmove']   = df['Price_change'].apply(lambda x: x if x > 0 else 0)\n",
    "    df['Downmove'] = df['Price_change'].apply(lambda x: abs(x) if x < 0 else 0)\n",
    "    df['Avg_up']   = df['Upmove'].ewm(span=19).mean()\n",
    "    df['Avg_down']   = df['Downmove'].ewm(span=19).mean()\n",
    "    df = df.dropna().copy()\n",
    "    df['RS'] = df['Avg_up'] / df['Avg_down']\n",
    "    df['RSI'] = df['RS'].apply(lambda x: 100 - (100 / (x + 1)))\n",
    "\n",
    "    df.loc[(df['Adj Close'] > df['MA200']) & (df['RSI'] < 30), 'Buy' ] = 'Yes'\n",
    "    df.loc[(df['Adj Close'] <= df['MA200']) | (df['RSI'] >= 30), 'Buy' ] = 'No'\n",
    "\n",
    "    return df\n",
    "    \n",
    "print('RSIcalc function defined....')"
   ]
  },
  {
   "cell_type": "code",
   "execution_count": null,
   "metadata": {},
   "outputs": [],
   "source": [
    "# Extract Buy & Sell dates from our Asset Dataframe\n",
    "# df: contains one company (symbol) of data\n",
    "def get_signals(df):\n",
    "    Buying_dates = []\n",
    "    Selling_dates = []\n",
    "    for i in range(len(df) - 11):\n",
    "        if 'Yes' in df['Buy'].iloc[i]:\n",
    "            Buying_dates.append(df.iloc[i+1].name)  # name is the index that contains the date\n",
    "            for j in range(1,11):\n",
    "                if df['RSI'].iloc[i + j] > 40:\n",
    "                    Selling_dates.append(df.iloc[i + j + 1].name)\n",
    "                    break # Break before we reach the tenth day\n",
    "                elif j == 10:\n",
    "                    Selling_dates.append(df.iloc[i + j + 1].name)\n",
    "    return Buying_dates, Selling_dates  \n",
    "\n",
    "print('get_signals function defined....')  \n"
   ]
  },
  {
   "cell_type": "code",
   "execution_count": null,
   "metadata": {},
   "outputs": [],
   "source": [
    "tickers = grab_symbols()\n",
    "all_assets = yahoo_prices(tickers)\n",
    "\n",
    "# Very long to run, will create a large file on system, BE CAREFUL\n",
    "#all_assets.to_csv('SP_500_daily_prices.csv')\n",
    "\n",
    "# Utility function to load prices from our saved historical file\n",
    "#sp500 = pd.read_csv('SP_500_daily_prices.csv', index_col='Date')\n",
    "#sp500.loc[sp500.Symbol == 'TSLA']\n",
    "\n",
    "print('All S&P Prices loaded/downloaded')"
   ]
  },
  {
   "cell_type": "code",
   "execution_count": null,
   "metadata": {},
   "outputs": [],
   "source": [
    "# Generate a list of trades for one specific company (symbol) based on our buy/sell signals\n",
    "def log_trades(asset_frame):\n",
    "    symbol = asset_frame.iloc[0].Symbol\n",
    "    buy, sell = get_signals(asset_frame)\n",
    "    buy_dates = asset_frame.loc[buy].index.tolist()\n",
    "    buy_prices = asset_frame.loc[buy].Open.values.tolist()\n",
    "    sell_dates = asset_frame.loc[sell].index.tolist()\n",
    "    sell_prices = asset_frame.loc[sell].Open.values.tolist()\n",
    "\n",
    "    trades = pd.DataFrame(buy_dates, columns=['Buy_dates'])\n",
    "    trades['Buy_price'] = buy_prices\n",
    "    trades['Sell_date'] = sell_dates\n",
    "    trades['Sell_price'] = sell_prices\n",
    "    trades['Overlaping_trades'] = [same_sell_date for same_sell_date in trades['Sell_date'] == trades['Sell_date'].shift(1)]\n",
    "    trades['Profit_amount'] = trades['Sell_price'] - trades['Buy_price']\n",
    "    trades['Profit'] = [amount for amount in trades['Profit_amount'] > 0]\n",
    "    trades['Symbol'] = symbol\n",
    "    \n",
    "    # Remove overlapping trades\n",
    "    trades = trades.loc[trades.Overlaping_trades == False]\n",
    "    \n",
    "    # Move Symbol to first column position for easy reading :)\n",
    "    first_column = trades.pop('Symbol')\n",
    "    trades.insert(0, 'Symbol', first_column)\n",
    "    return trades\n",
    "\n",
    "print('log_trades function defined....')"
   ]
  },
  {
   "cell_type": "code",
   "execution_count": null,
   "metadata": {},
   "outputs": [],
   "source": [
    "tickers.index('TSLA')"
   ]
  },
  {
   "cell_type": "code",
   "execution_count": null,
   "metadata": {},
   "outputs": [],
   "source": [
    "# Test our functions for only one stock before applying our trade log to all our 503 assets\n",
    "i = 445\n",
    "data = all_assets.loc[all_assets.Symbol == tickers[i]].copy()\n",
    "frame = RSIcalc(data)\n",
    "if frame is not None:\n",
    "    trades = log_trades(frame)\n",
    "\n",
    "trades"
   ]
  },
  {
   "cell_type": "code",
   "execution_count": null,
   "metadata": {},
   "outputs": [],
   "source": [
    "# Run our analysis on all our S&P500 companies\n",
    "all_trades = None\n",
    "\n",
    "len_tickers = len(tickers)\n",
    "for i in range(len_tickers):\n",
    "    data = all_assets.loc[all_assets.Symbol == tickers[i]].copy()\n",
    "    frame = RSIcalc(data)\n",
    "    if frame is not None:\n",
    "        trades = log_trades(frame)\n",
    "    winning_trades = trades.Profit.sum()\n",
    "    print(f'[{i}/{len_tickers}][{trades.iloc[0].Symbol}] Winning trades:{winning_trades}/{len(trades)} for total profit of ${trades.Profit_amount.sum():0.2f}')\n",
    "\n",
    "    if all_trades is None:\n",
    "        all_trades = trades.copy()\n",
    "    else:\n",
    "        all_trades = pd.concat([all_trades, trades], ignore_index=True).copy()\n",
    "\n",
    "print(f'Total profit: ${all_trades.Profit_amount.sum():0.2f}')"
   ]
  },
  {
   "cell_type": "code",
   "execution_count": null,
   "metadata": {},
   "outputs": [],
   "source": [
    "# Display statsitics on Winning vs Losing trades\n",
    "# Winning trades : 5459\n",
    "# Losing trades : 4194\n",
    "# Total trades : 9653\n",
    "win_trades = all_trades.loc[all_trades.Profit].Symbol.count()\n",
    "win_amount = all_trades.loc[all_trades.Profit].Profit_amount.sum()\n",
    "loss_trades = all_trades.loc[all_trades.Profit == False].Symbol.count()\n",
    "loss_amount = all_trades.loc[all_trades.Profit == False].Profit_amount.sum()\n",
    "\n",
    "print(f'Winners: {win_trades} for ${win_amount:0.2f} amount')\n",
    "print(f'Loosers: {loss_trades} for ${loss_amount:0.2f} amount')\n",
    "print(f'Profit: ${(win_amount + loss_amount):0.2f}')"
   ]
  }
 ],
 "metadata": {
  "kernelspec": {
   "display_name": "env",
   "language": "python",
   "name": "python3"
  },
  "language_info": {
   "codemirror_mode": {
    "name": "ipython",
    "version": 3
   },
   "file_extension": ".py",
   "mimetype": "text/x-python",
   "name": "python",
   "nbconvert_exporter": "python",
   "pygments_lexer": "ipython3",
   "version": "3.11.1"
  },
  "orig_nbformat": 4,
  "vscode": {
   "interpreter": {
    "hash": "ffdde8219ed97b2eacd69b0a416748720c3526a0d0906565ed268fe061bc1815"
   }
  }
 },
 "nbformat": 4,
 "nbformat_minor": 2
}
