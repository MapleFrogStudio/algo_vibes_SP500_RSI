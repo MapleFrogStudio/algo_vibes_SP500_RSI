{
 "cells": [
  {
   "cell_type": "code",
   "execution_count": 16,
   "metadata": {},
   "outputs": [],
   "source": [
    "import pandas as pd\n",
    "import yfinance as yf\n",
    "import pandas_ta as ta\n",
    "\n",
    "from datetime import datetime, date"
   ]
  },
  {
   "cell_type": "code",
   "execution_count": 2,
   "metadata": {},
   "outputs": [
    {
     "name": "stdout",
     "output_type": "stream",
     "text": [
      "Grab symbols function defined...\n"
     ]
    }
   ],
   "source": [
    "def grab_symbols():\n",
    "    # Grab S&P Symbols from Wikipedia or local HTML File\n",
    "    # wiki_url = 'https://en.wikipedia.org/wiki/List_of_S%26P_500_companies'\n",
    "    # wiki_url = 'https://en.wikipedia.org/wiki/List_of_S%26P_500_companies#S&P_500_component_stocks'\n",
    "    tickers = pd.read_html('./tickers.html')[0]\n",
    "    tickers = tickers.Symbol.to_list()\n",
    "    tickers = [i.replace('.','-') for i in tickers]\n",
    "    return tickers \n",
    "\n",
    "print('Grab symbols function defined...')"
   ]
  },
  {
   "cell_type": "code",
   "execution_count": 3,
   "metadata": {},
   "outputs": [
    {
     "name": "stdout",
     "output_type": "stream",
     "text": [
      "Yahoo_prices function defined...\n"
     ]
    }
   ],
   "source": [
    "def yahoo_prices(tickers, current_day):\n",
    "    # Return a DataFrame with dates, symbols and prices\n",
    "    if not isinstance(tickers,list):\n",
    "        return None\n",
    "\n",
    "    years_back = 5\n",
    "    end_dt = datetime.strptime(current_day, '%Y-%m-%d').date()\n",
    "    start_dt = date(end_dt.year - years_back, end_dt.month, end_dt.day)\n",
    "\n",
    "    data = yf.download(tickers, start=start_dt, end=end_dt)\n",
    "    data = data.loc[(slice(None)),(slice(None),slice(None))].copy()\n",
    "    data = data.stack()\n",
    "    data = data.reset_index()\n",
    "    data.rename(columns={'level_1': 'Symbol'}, inplace=True)\n",
    "    data.set_index('Date', inplace=True)\n",
    "    return data\n",
    "\n",
    "print('Yahoo_prices function defined...') "
   ]
  },
  {
   "cell_type": "code",
   "execution_count": 21,
   "metadata": {},
   "outputs": [
    {
     "name": "stdout",
     "output_type": "stream",
     "text": [
      "detect_engulfing function defined\n"
     ]
    }
   ],
   "source": [
    "def detect_engulfing(df):\n",
    "    df['Engulfing'] = False\n",
    "    # engulfing pattern\n",
    "    return df \n",
    "\n",
    "print('detect_engulfing function defined')"
   ]
  },
  {
   "cell_type": "code",
   "execution_count": 8,
   "metadata": {},
   "outputs": [
    {
     "data": {
      "text/plain": [
       "(445, 'TSLA')"
      ]
     },
     "execution_count": 8,
     "metadata": {},
     "output_type": "execute_result"
    }
   ],
   "source": [
    "my_symbols = grab_symbols()\n",
    "tsla = my_symbols.index('TSLA')\n",
    "(tsla, my_symbols[tsla])"
   ]
  },
  {
   "cell_type": "code",
   "execution_count": 12,
   "metadata": {},
   "outputs": [
    {
     "name": "stdout",
     "output_type": "stream",
     "text": [
      "[*********************100%***********************]  10 of 10 completed\n"
     ]
    }
   ],
   "source": [
    "data = yahoo_prices(my_symbols[440:450], '2023-02-14')"
   ]
  },
  {
   "cell_type": "code",
   "execution_count": 22,
   "metadata": {},
   "outputs": [
    {
     "data": {
      "text/html": [
       "<div>\n",
       "<style scoped>\n",
       "    .dataframe tbody tr th:only-of-type {\n",
       "        vertical-align: middle;\n",
       "    }\n",
       "\n",
       "    .dataframe tbody tr th {\n",
       "        vertical-align: top;\n",
       "    }\n",
       "\n",
       "    .dataframe thead th {\n",
       "        text-align: right;\n",
       "    }\n",
       "</style>\n",
       "<table border=\"1\" class=\"dataframe\">\n",
       "  <thead>\n",
       "    <tr style=\"text-align: right;\">\n",
       "      <th></th>\n",
       "      <th>Symbol</th>\n",
       "      <th>Adj Close</th>\n",
       "      <th>Close</th>\n",
       "      <th>High</th>\n",
       "      <th>Low</th>\n",
       "      <th>Open</th>\n",
       "      <th>Volume</th>\n",
       "      <th>Engulfing</th>\n",
       "    </tr>\n",
       "    <tr>\n",
       "      <th>Date</th>\n",
       "      <th></th>\n",
       "      <th></th>\n",
       "      <th></th>\n",
       "      <th></th>\n",
       "      <th></th>\n",
       "      <th></th>\n",
       "      <th></th>\n",
       "      <th></th>\n",
       "    </tr>\n",
       "  </thead>\n",
       "  <tbody>\n",
       "    <tr>\n",
       "      <th>2018-02-14</th>\n",
       "      <td>TSLA</td>\n",
       "      <td>21.487333</td>\n",
       "      <td>21.487333</td>\n",
       "      <td>21.744667</td>\n",
       "      <td>21.234667</td>\n",
       "      <td>21.389334</td>\n",
       "      <td>59260500</td>\n",
       "      <td>False</td>\n",
       "    </tr>\n",
       "    <tr>\n",
       "      <th>2018-02-15</th>\n",
       "      <td>TSLA</td>\n",
       "      <td>22.271334</td>\n",
       "      <td>22.271334</td>\n",
       "      <td>22.274668</td>\n",
       "      <td>21.493334</td>\n",
       "      <td>21.633333</td>\n",
       "      <td>88693500</td>\n",
       "      <td>False</td>\n",
       "    </tr>\n",
       "    <tr>\n",
       "      <th>2018-02-16</th>\n",
       "      <td>TSLA</td>\n",
       "      <td>22.365999</td>\n",
       "      <td>22.365999</td>\n",
       "      <td>22.874666</td>\n",
       "      <td>22.109333</td>\n",
       "      <td>22.166668</td>\n",
       "      <td>84639000</td>\n",
       "      <td>False</td>\n",
       "    </tr>\n",
       "    <tr>\n",
       "      <th>2018-02-20</th>\n",
       "      <td>TSLA</td>\n",
       "      <td>22.318001</td>\n",
       "      <td>22.318001</td>\n",
       "      <td>22.722668</td>\n",
       "      <td>22.100000</td>\n",
       "      <td>22.298000</td>\n",
       "      <td>60141000</td>\n",
       "      <td>False</td>\n",
       "    </tr>\n",
       "    <tr>\n",
       "      <th>2018-02-21</th>\n",
       "      <td>TSLA</td>\n",
       "      <td>22.219999</td>\n",
       "      <td>22.219999</td>\n",
       "      <td>22.646000</td>\n",
       "      <td>22.211332</td>\n",
       "      <td>22.402000</td>\n",
       "      <td>48294000</td>\n",
       "      <td>False</td>\n",
       "    </tr>\n",
       "    <tr>\n",
       "      <th>...</th>\n",
       "      <td>...</td>\n",
       "      <td>...</td>\n",
       "      <td>...</td>\n",
       "      <td>...</td>\n",
       "      <td>...</td>\n",
       "      <td>...</td>\n",
       "      <td>...</td>\n",
       "      <td>...</td>\n",
       "    </tr>\n",
       "    <tr>\n",
       "      <th>2023-02-07</th>\n",
       "      <td>TSLA</td>\n",
       "      <td>196.809998</td>\n",
       "      <td>196.809998</td>\n",
       "      <td>197.500000</td>\n",
       "      <td>189.550003</td>\n",
       "      <td>196.429993</td>\n",
       "      <td>186010300</td>\n",
       "      <td>False</td>\n",
       "    </tr>\n",
       "    <tr>\n",
       "      <th>2023-02-08</th>\n",
       "      <td>TSLA</td>\n",
       "      <td>201.289993</td>\n",
       "      <td>201.289993</td>\n",
       "      <td>203.000000</td>\n",
       "      <td>194.309998</td>\n",
       "      <td>196.100006</td>\n",
       "      <td>180673600</td>\n",
       "      <td>False</td>\n",
       "    </tr>\n",
       "    <tr>\n",
       "      <th>2023-02-09</th>\n",
       "      <td>TSLA</td>\n",
       "      <td>207.320007</td>\n",
       "      <td>207.320007</td>\n",
       "      <td>214.000000</td>\n",
       "      <td>204.770004</td>\n",
       "      <td>207.779999</td>\n",
       "      <td>215431400</td>\n",
       "      <td>False</td>\n",
       "    </tr>\n",
       "    <tr>\n",
       "      <th>2023-02-10</th>\n",
       "      <td>TSLA</td>\n",
       "      <td>196.889999</td>\n",
       "      <td>196.889999</td>\n",
       "      <td>206.199997</td>\n",
       "      <td>192.889999</td>\n",
       "      <td>202.229996</td>\n",
       "      <td>204193800</td>\n",
       "      <td>False</td>\n",
       "    </tr>\n",
       "    <tr>\n",
       "      <th>2023-02-13</th>\n",
       "      <td>TSLA</td>\n",
       "      <td>194.639999</td>\n",
       "      <td>194.639999</td>\n",
       "      <td>196.300003</td>\n",
       "      <td>187.610001</td>\n",
       "      <td>194.419998</td>\n",
       "      <td>172475500</td>\n",
       "      <td>False</td>\n",
       "    </tr>\n",
       "  </tbody>\n",
       "</table>\n",
       "<p>1258 rows × 8 columns</p>\n",
       "</div>"
      ],
      "text/plain": [
       "           Symbol   Adj Close       Close        High         Low        Open  \\\n",
       "Date                                                                            \n",
       "2018-02-14   TSLA   21.487333   21.487333   21.744667   21.234667   21.389334   \n",
       "2018-02-15   TSLA   22.271334   22.271334   22.274668   21.493334   21.633333   \n",
       "2018-02-16   TSLA   22.365999   22.365999   22.874666   22.109333   22.166668   \n",
       "2018-02-20   TSLA   22.318001   22.318001   22.722668   22.100000   22.298000   \n",
       "2018-02-21   TSLA   22.219999   22.219999   22.646000   22.211332   22.402000   \n",
       "...           ...         ...         ...         ...         ...         ...   \n",
       "2023-02-07   TSLA  196.809998  196.809998  197.500000  189.550003  196.429993   \n",
       "2023-02-08   TSLA  201.289993  201.289993  203.000000  194.309998  196.100006   \n",
       "2023-02-09   TSLA  207.320007  207.320007  214.000000  204.770004  207.779999   \n",
       "2023-02-10   TSLA  196.889999  196.889999  206.199997  192.889999  202.229996   \n",
       "2023-02-13   TSLA  194.639999  194.639999  196.300003  187.610001  194.419998   \n",
       "\n",
       "               Volume  Engulfing  \n",
       "Date                              \n",
       "2018-02-14   59260500      False  \n",
       "2018-02-15   88693500      False  \n",
       "2018-02-16   84639000      False  \n",
       "2018-02-20   60141000      False  \n",
       "2018-02-21   48294000      False  \n",
       "...               ...        ...  \n",
       "2023-02-07  186010300      False  \n",
       "2023-02-08  180673600      False  \n",
       "2023-02-09  215431400      False  \n",
       "2023-02-10  204193800      False  \n",
       "2023-02-13  172475500      False  \n",
       "\n",
       "[1258 rows x 8 columns]"
      ]
     },
     "execution_count": 22,
     "metadata": {},
     "output_type": "execute_result"
    }
   ],
   "source": [
    "tsla_df = data.loc[data.Symbol == 'TSLA'].copy()\n",
    "tsla_df = detect_engulfing(tsla_df)\n",
    "tsla_df"
   ]
  },
  {
   "cell_type": "code",
   "execution_count": null,
   "metadata": {},
   "outputs": [],
   "source": []
  }
 ],
 "metadata": {
  "kernelspec": {
   "display_name": "env",
   "language": "python",
   "name": "python3"
  },
  "language_info": {
   "codemirror_mode": {
    "name": "ipython",
    "version": 3
   },
   "file_extension": ".py",
   "mimetype": "text/x-python",
   "name": "python",
   "nbconvert_exporter": "python",
   "pygments_lexer": "ipython3",
   "version": "3.11.1"
  },
  "orig_nbformat": 4,
  "vscode": {
   "interpreter": {
    "hash": "201faba2ab4a111431e9181993c925a32e5643a004c84aa0bce921afa55d3ea2"
   }
  }
 },
 "nbformat": 4,
 "nbformat_minor": 2
}
